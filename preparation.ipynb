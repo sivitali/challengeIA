{
 "cells": [
  {
   "cell_type": "code",
   "execution_count": 1,
   "id": "manual-claim",
   "metadata": {},
   "outputs": [],
   "source": [
    "import pandas as pnd\n",
    "from sklearn.model_selection import train_test_split\n"
   ]
  },
  {
   "cell_type": "code",
   "execution_count": 2,
   "id": "confidential-liability",
   "metadata": {},
   "outputs": [],
   "source": [
    "#lettura del csv\n",
    "data = pnd.read_csv(\"Churn_Modelling.partial.csv\")\n",
    "\n",
    "#Divisione del dataset in due file per training e testing\n",
    "train, test = train_test_split(data, test_size = 0.4, random_state = 17)\n",
    "train.to_csv('train.csv',index=False)\n",
    "test.to_csv('test.csv',index=False)\n"
   ]
  }
 ],
 "metadata": {
  "kernelspec": {
   "display_name": "Python 3",
   "language": "python",
   "name": "python3"
  },
  "language_info": {
   "codemirror_mode": {
    "name": "ipython",
    "version": 3
   },
   "file_extension": ".py",
   "mimetype": "text/x-python",
   "name": "python",
   "nbconvert_exporter": "python",
   "pygments_lexer": "ipython3",
   "version": "3.6.13"
  }
 },
 "nbformat": 4,
 "nbformat_minor": 5
}
