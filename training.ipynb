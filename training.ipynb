{
 "cells": [
  {
   "cell_type": "code",
   "execution_count": 1,
   "id": "simple-privilege",
   "metadata": {},
   "outputs": [],
   "source": [
    "import numpy as np\n",
    "import pandas as pnd\n",
    "import matplotlib.pyplot as plt\n",
    "from sklearn import preprocessing\n",
    "from sklearn import tree\n",
    "from sklearn.tree import DecisionTreeClassifier\n"
   ]
  },
  {
   "cell_type": "code",
   "execution_count": 2,
   "id": "surprised-february",
   "metadata": {},
   "outputs": [],
   "source": [
    "#Estraggo i training e test set dai csv \n",
    "train = pnd.read_csv(\"train.csv\")\n",
    "test = pnd.read_csv(\"test.csv\")\n",
    "\n",
    "#Definisco le feature da usare per la classificazione, escludendo i valori 'RowNumber', 'CustomerID' e 'Surname' \n",
    "#non utili all'analisi in quanto identificatori o valori unici delle tuple\n",
    "features = [\"CreditScore\", \"Geography\", \"Gender\", \"Age\", \"Tenure\", \"Balance\", \"NumOfProducts\", \"HasCrCard\", \"IsActiveMember\", \"EstimatedSalary\"]\n",
    "\n",
    "#Codifica dei parametri stringa 'Geografia' e 'Genere' in numeri interi per l'utilizzo nel fitting\n",
    "le = preprocessing.LabelEncoder()\n",
    "train[\"Geography\"] = le.fit_transform(train[\"Geography\"])\n",
    "train[\"Gender\"] = le.fit_transform(train[\"Gender\"])\n",
    "test[\"Geography\"] = le.fit_transform(test[\"Geography\"])\n",
    "test[\"Gender\"] = le.fit_transform(test[\"Gender\"])\n"
   ]
  },
  {
   "cell_type": "code",
   "execution_count": 3,
   "id": "later-disclosure",
   "metadata": {},
   "outputs": [
    {
     "name": "stdout",
     "output_type": "stream",
     "text": [
      "Train set accuracy: 0.868\n",
      "Test set accuracy: 0.850\n"
     ]
    }
   ],
   "source": [
    "#Preparo i set per l'addestramento\n",
    "X_train = train[features]\n",
    "Y_train = train.Exited\n",
    "X_test = test[features]\n",
    "Y_test = test.Exited\n",
    "\n",
    "#Utilizzo un Albero Decisionale per la classificazione e, dopo il fitting stampo le prestazioni\n",
    "tree = DecisionTreeClassifier(max_depth = 6)\n",
    "tree.fit(X_train, Y_train)\n",
    "print(\"Train set accuracy: {:.3f}\".format(tree.score(X_train, Y_train)))\n",
    "print(\"Test set accuracy: {:.3f}\".format(tree.score(X_test, Y_test)))\n"
   ]
  },
  {
   "cell_type": "code",
   "execution_count": 4,
   "id": "billion-monthly",
   "metadata": {
    "scrolled": true
   },
   "outputs": [
    {
     "name": "stdout",
     "output_type": "stream",
     "text": [
      "Features importance:\n",
      "[0.01436125 0.01231733 0.00048363 0.40919927 0.02146075 0.06196745\n",
      " 0.30164141 0.         0.15354072 0.02502818]\n"
     ]
    },
    {
     "data": {
      "image/png": "[encoded data removed]",
      "text/plain": [
       "<Figure size 432x288 with 1 Axes>"
      ]
     },
     "metadata": {
      "needs_background": "light"
     },
     "output_type": "display_data"
    }
   ],
   "source": [
    "#Visualizzo l'importanza delle diverse feature matematicamente e graficamente\n",
    "n_features = X_train.shape[1]\n",
    "plt.barh(np.arange(n_features), tree.feature_importances_, align='center')\n",
    "plt.yticks(np.arange(n_features), features)\n",
    "plt.ylabel(\"Features importance\")\n",
    "plt.xlabel(\"Features\")\n",
    "print(\"Features importance:\")\n",
    "print(tree.feature_importances_)\n"
   ]
  }
 ],
 "metadata": {
  "kernelspec": {
   "display_name": "Python 3",
   "language": "python",
   "name": "python3"
  },
  "language_info": {
   "codemirror_mode": {
    "name": "ipython",
    "version": 3
   },
   "file_extension": ".py",
   "mimetype": "text/x-python",
   "name": "python",
   "nbconvert_exporter": "python",
   "pygments_lexer": "ipython3",
   "version": "3.6.13"
  }
 },
 "nbformat": 4,
 "nbformat_minor": 5
}
